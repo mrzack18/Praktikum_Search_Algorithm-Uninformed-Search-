{
 "cells": [
  {
   "cell_type": "markdown",
   "metadata": {},
   "source": [
    "# **A * TREE**"
   ]
  },
  {
   "cell_type": "code",
   "execution_count": 1,
   "metadata": {},
   "outputs": [
    {
     "name": "stdout",
     "output_type": "stream",
     "text": [
      "Simpul Tujuan Ditemukan: G\n",
      "Total Biaya: 11\n",
      "Jalur yang Ditempuh: S -> E -> D -> G\n"
     ]
    },
    {
     "data": {
      "text/plain": [
       "True"
      ]
     },
     "execution_count": 1,
     "metadata": {},
     "output_type": "execute_result"
    }
   ],
   "source": [
    "from queue import PriorityQueue\n",
    "\n",
    "def a_star_tree_search(graph, start, goal, heuristic):\n",
    "    frontier = PriorityQueue()\n",
    "    frontier.put((0 + heuristic[start], 0, start, [start]))  # (priority, cost_so_far, node, path)\n",
    "\n",
    "    while not frontier.empty():\n",
    "        _, cost_so_far, current_node, path = frontier.get()  # Mengambil node dengan prioritas tertinggi\n",
    "\n",
    "        if current_node == goal:\n",
    "            print(\"Simpul Tujuan Ditemukan:\", current_node)\n",
    "            print(\"Total Biaya:\", cost_so_far)\n",
    "            print(\"Jalur yang Ditempuh:\", \" -> \".join(path))\n",
    "            return True\n",
    "\n",
    "        for neighbor, cost in graph[current_node].items():\n",
    "            # Hitung total biaya dari start ke neighbor\n",
    "            total_cost = cost_so_far + cost\n",
    "            # Hitung prioritas (total_cost + heuristic)\n",
    "            priority = total_cost + heuristic[neighbor]\n",
    "            # Simpan jalur baru\n",
    "            new_path = path.copy()\n",
    "            new_path.append(neighbor)\n",
    "            # Masukkan ke frontier\n",
    "            frontier.put((priority, total_cost, neighbor, new_path))\n",
    "\n",
    "    print(\"Simpul Tujuan Tidak Ditemukan\")\n",
    "    return False\n",
    "\n",
    "# Nilai heuristik untuk setiap node\n",
    "heuristic = {\n",
    "    'A': 9,\n",
    "    'B': 4,\n",
    "    'C': 2,\n",
    "    'D': 5,\n",
    "    'E': 3,\n",
    "    'S': 7,\n",
    "    'G': 0,\n",
    "}\n",
    "\n",
    "# Representasi graf (dengan biaya)\n",
    "graph = {\n",
    "    'S': {'A': 3, 'E': 2},\n",
    "    'A': {'B': 3, 'C': 4},\n",
    "    'B': {'D': 5},\n",
    "    'C': {'G': 7},\n",
    "    'D': {'G': 3},\n",
    "    'E': {'D': 6}\n",
    "}\n",
    "\n",
    "# Node awal dan tujuan\n",
    "start_node = 'S'\n",
    "goal_node = 'G'\n",
    "\n",
    "# Panggil fungsi A* Tree Search\n",
    "a_star_tree_search(graph, start_node, goal_node, heuristic)"
   ]
  }
 ],
 "metadata": {
  "kernelspec": {
   "display_name": "Python 3",
   "language": "python",
   "name": "python3"
  },
  "language_info": {
   "codemirror_mode": {
    "name": "ipython",
    "version": 3
   },
   "file_extension": ".py",
   "mimetype": "text/x-python",
   "name": "python",
   "nbconvert_exporter": "python",
   "pygments_lexer": "ipython3",
   "version": "3.12.6"
  }
 },
 "nbformat": 4,
 "nbformat_minor": 2
}
