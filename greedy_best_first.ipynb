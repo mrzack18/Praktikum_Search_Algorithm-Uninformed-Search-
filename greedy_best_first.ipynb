{
 "cells": [
  {
   "cell_type": "markdown",
   "metadata": {},
   "source": [
    "# **Greedy Best First**"
   ]
  },
  {
   "cell_type": "code",
   "execution_count": 1,
   "metadata": {},
   "outputs": [
    {
     "name": "stdout",
     "output_type": "stream",
     "text": [
      "Simpul Tujuan Ditemukan: G\n"
     ]
    },
    {
     "data": {
      "text/plain": [
       "True"
      ]
     },
     "execution_count": 1,
     "metadata": {},
     "output_type": "execute_result"
    }
   ],
   "source": [
    "from queue import PriorityQueue\n",
    "\n",
    "def greedy_search(graph, start, goal, heuristic):\n",
    "    frontier = PriorityQueue()\n",
    "    frontier.put((heuristic[start], start))  # Menggunakan heuristik sebagai prioritas\n",
    "    explored = set()\n",
    "\n",
    "    while not frontier.empty():\n",
    "        _, current_node = frontier.get()  # Mengambil node dengan prioritas tertinggi\n",
    "\n",
    "        if current_node == goal:\n",
    "            print(\"Simpul Tujuan Ditemukan:\", current_node)\n",
    "            return True\n",
    "\n",
    "        explored.add(current_node)\n",
    "\n",
    "        for neighbor in graph[current_node]:\n",
    "            if neighbor not in explored:\n",
    "                priority = heuristic[neighbor]  # Menggunakan nilai heuristik sebagai prioritas\n",
    "                frontier.put((priority, neighbor))\n",
    "\n",
    "    print(\"Simpul Tujuan Tidak Ditemukan\")\n",
    "    return False\n",
    "\n",
    "# Nilai heuristik untuk setiap node\n",
    "heuristic = {\n",
    "    'A': 9,\n",
    "    'B': 4,\n",
    "    'C': 2,\n",
    "    'D': 5,\n",
    "    'E': 3,\n",
    "    'S': 7,\n",
    "    'G': 0,\n",
    "}\n",
    "\n",
    "# Representasi graf\n",
    "graph = {\n",
    "    'S': ['A', 'E'],\n",
    "    'A': ['B', 'C'],\n",
    "    'B': ['D'],\n",
    "    'C': ['G'],\n",
    "    'D': ['G'],\n",
    "    'E': ['D']\n",
    "}\n",
    "\n",
    "# Node awal dan tujuan\n",
    "start_node = 'S'\n",
    "goal_node = 'G'\n",
    "\n",
    "# Panggil fungsi Greedy Search\n",
    "greedy_search(graph, start_node, goal_node, heuristic)"
   ]
  }
 ],
 "metadata": {
  "kernelspec": {
   "display_name": "Python 3",
   "language": "python",
   "name": "python3"
  },
  "language_info": {
   "codemirror_mode": {
    "name": "ipython",
    "version": 3
   },
   "file_extension": ".py",
   "mimetype": "text/x-python",
   "name": "python",
   "nbconvert_exporter": "python",
   "pygments_lexer": "ipython3",
   "version": "3.12.6"
  }
 },
 "nbformat": 4,
 "nbformat_minor": 2
}
