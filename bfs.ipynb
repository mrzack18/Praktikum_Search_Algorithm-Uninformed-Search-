{
 "cells": [
  {
   "cell_type": "markdown",
   "metadata": {},
   "source": [
    "# **Breadth First Search**"
   ]
  },
  {
   "cell_type": "code",
   "execution_count": 1,
   "metadata": {},
   "outputs": [
    {
     "name": "stdout",
     "output_type": "stream",
     "text": [
      "Following is Breadth First Traversal:\n",
      "0 1 2 3 "
     ]
    }
   ],
   "source": [
    "import collections\n",
    "\n",
    "def bfs(graph, root):\n",
    "  visited, queue = set(), collections.deque([root])\n",
    "  visited.add(root)\n",
    "\n",
    "  while queue:\n",
    "    vertex = queue.popleft()\n",
    "    print(str(vertex) + \" \", end=\"\")\n",
    "\n",
    "    for neighbour in graph[vertex]:\n",
    "      if neighbour not in visited:\n",
    "        visited.add(neighbour)\n",
    "        queue.append(neighbour)\n",
    "\n",
    "if __name__ == \"__main__\":\n",
    "  graph = {0: [1, 2], 1: [2], 2: [3], 3: [1, 2]}\n",
    "  print(\"Following is Breadth First Traversal:\")\n",
    "  bfs(graph, 0)"
   ]
  }
 ],
 "metadata": {
  "kernelspec": {
   "display_name": "Python 3",
   "language": "python",
   "name": "python3"
  },
  "language_info": {
   "codemirror_mode": {
    "name": "ipython",
    "version": 3
   },
   "file_extension": ".py",
   "mimetype": "text/x-python",
   "name": "python",
   "nbconvert_exporter": "python",
   "pygments_lexer": "ipython3",
   "version": "3.12.6"
  }
 },
 "nbformat": 4,
 "nbformat_minor": 2
}
