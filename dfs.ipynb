{
 "cells": [
  {
   "cell_type": "markdown",
   "metadata": {},
   "source": [
    "# **DFS**"
   ]
  },
  {
   "cell_type": "code",
   "execution_count": 1,
   "metadata": {},
   "outputs": [
    {
     "name": "stdout",
     "output_type": "stream",
     "text": [
      "Berikut adalah penelusuran depth first (dimulai dari node 2)\n",
      "2 0 1 3 "
     ]
    }
   ],
   "source": [
    "from collections import defaultdict\n",
    "class Graph:\n",
    "    def __init__(self):\n",
    "        self.graph = defaultdict(list)\n",
    "    def addEdge(self,u,v):\n",
    "        self.graph[u].append(v)\n",
    "\n",
    "    def DFSUtil(self, v, visited):\n",
    "      visited.add(v)\n",
    "      print(v, end=' ')\n",
    "      for neighbour in self.graph[v]:\n",
    "          if neighbour not in visited:\n",
    "              self.DFSUtil(neighbour, visited)\n",
    "    def DFS(self, v):\n",
    "      visited = set()\n",
    "      self.DFSUtil(v, visited)\n",
    "\n",
    "if __name__ == \"__main__\":\n",
    "    g = Graph()\n",
    "    g.addEdge(0, 1)\n",
    "    g.addEdge(0, 2)\n",
    "    g.addEdge(1, 2)\n",
    "    g.addEdge(2, 0)\n",
    "    g.addEdge(2, 3)\n",
    "    g.addEdge(3, 3)\n",
    "\n",
    "    print(\"Berikut adalah penelusuran depth first (dimulai dari node 2)\")\n",
    "    g.DFS(2)"
   ]
  }
 ],
 "metadata": {
  "kernelspec": {
   "display_name": "Python 3",
   "language": "python",
   "name": "python3"
  },
  "language_info": {
   "codemirror_mode": {
    "name": "ipython",
    "version": 3
   },
   "file_extension": ".py",
   "mimetype": "text/x-python",
   "name": "python",
   "nbconvert_exporter": "python",
   "pygments_lexer": "ipython3",
   "version": "3.12.6"
  }
 },
 "nbformat": 4,
 "nbformat_minor": 2
}
